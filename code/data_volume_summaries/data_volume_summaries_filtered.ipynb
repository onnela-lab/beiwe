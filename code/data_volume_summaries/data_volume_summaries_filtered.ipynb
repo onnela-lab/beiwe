{
 "cells": [
  {
   "cell_type": "markdown",
   "id": "990dedda-86b5-4a5f-8964-7cbfb4a5d7b2",
   "metadata": {},
   "source": [
    "# This notebook is intended to let a lab member clean the summary csv of dates when participants are unregistered \n",
    "\n",
    "## This notebook takes advantage of the existing APIs to post-process data summary CSV results by truncating them to dates participants were registered\n"
   ]
  },
  {
   "cell_type": "code",
   "execution_count": null,
   "id": "d720133d",
   "metadata": {},
   "outputs": [],
   "source": [
    "from datetime import datetime\n",
    "import sys\n",
    "#!{sys.executable} -m pip install mano\n",
    "\n",
    "# You need 2 libraries installed to run this script, run `pip install orjson requests`\n",
    "# requests is a (fantastic) library for making http requests\n",
    "# orjson is a highly optimized library for parsing json, I assure you, you will want to use it.\n",
    "import orjson\n",
    "import requests\n",
    "import data_summaries\n",
    "import pandas as pd\n",
    "from pandas import json_normalize \n",
    "from helper_functions import call_api"
   ]
  },
  {
   "cell_type": "code",
   "execution_count": null,
   "id": "3416a2b8",
   "metadata": {},
   "outputs": [],
   "source": [
    "kr = data_summaries.read_keyring(\"keyring_studies.py\")"
   ]
  },
  {
   "cell_type": "code",
   "execution_count": null,
   "id": "d33823d4-d9ee-4138-be61-92645f3c7ee7",
   "metadata": {},
   "outputs": [],
   "source": [
    "# provide your Beiwe access keys here\n",
    "access_key = kr.get(\"ACCESS_KEY\")\n",
    "secret_key = kr.get(\"SECRET_KEY\")\n",
    "\n",
    "# Enter the top-level component of your Beiwe server.\n",
    "MY_BEIWE_SERVER = \"https://studies.beiwe.org\"\n",
    "beiwe_study_id = \"\""
   ]
  },
  {
   "cell_type": "code",
   "execution_count": null,
   "id": "8e62e5b8-08ab-45bb-af83-e45aaa4792a1",
   "metadata": {},
   "outputs": [],
   "source": [
    "TARGET_ENDPOINT_URL = f\"{MY_BEIWE_SERVER}/get-summary-statistics/v1\"\n",
    "    # Endoint takes many parameters, and has one required parameter, study_id.\n",
    "    # This endpoint is identical to the Tableau API endpoint. It returns a json list of\n",
    "    # dictionaries, based on the query parameters.  The query parameters are:\n",
    "    # `end_date`, a dat of the form YYYY-MM-DD that specifies the last date to include in the search.\n",
    "    # `start_date`, a date of the form YYYY-MM-DD that specifies the first date to include in the search.\n",
    "    # `fields`, a comma separated list that of all specific summary statistic fields to return.\n",
    "    #           Providing no value for fields will return all fields.\n",
    "    # `limit`, an integer that specifies the maximum number of data points to return.\n",
    "    # `ordered_by`, a field name that specifies the parameter to sort the output by.\n",
    "    # `order_direction`, either \"ascending\" or \"descending\", specifies the order to sort in."
   ]
  },
  {
   "cell_type": "code",
   "execution_count": null,
   "id": "206c01b3-4aab-4f94-8601-a7d688b5a5c6",
   "metadata": {},
   "outputs": [],
   "source": [
    "summary_data = call_api(TARGET_ENDPOINT_URL, beiwe_study_id, access_key, secret_key)"
   ]
  },
  {
   "cell_type": "code",
   "execution_count": null,
   "id": "5a9cefdd-3b50-4db4-8bff-133f8a6860bf",
   "metadata": {},
   "outputs": [],
   "source": [
    "# Find the first and last data collection dates for each participant and truncate to those dates\n",
    "bytes_columns = summary_data.columns[summary_data.columns.str.contains('bytes')]\n",
    "valid_rows = summary_data[bytes_columns].apply(lambda row: row.notna() & row.notnull(), axis=1).any(axis=1)\n",
    "filtered_df = summary_data[valid_rows]\n",
    "valid_dates = filtered_df.groupby('participant_id')['date'].agg(['min', 'max']).reset_index()\n",
    "valid_dates.rename(columns={'min': 'first_valid_date', 'max': 'last_valid_date'}, inplace=True)\n",
    "\n",
    "# Filter out any dates outside of the acceptable range for each individual\n",
    "summary_data = pd.merge(summary_data, valid_dates, on='participant_id')\n",
    "summary_filtered = summary_data[\n",
    "    (summary_data['date'] >= summary_data['first_valid_date']) & \n",
    "    (summary_data['date'] <= summary_data['last_valid_date'])\n",
    "]\n"
   ]
  },
  {
   "cell_type": "code",
   "execution_count": null,
   "id": "97fc17aa-bdc5-4cad-bebd-666f39bcb87c",
   "metadata": {},
   "outputs": [],
   "source": [
    "summary_filtered = summary_filtered.drop(columns=['first_valid_date',\"last_valid_date\"])\n",
    "summary_filtered = summary_filtered.reset_index(drop=True)\n",
    "summary_filtered = summary_filtered.sort_values(['participant_id', 'date'], ascending=[True, True])\n",
    "summary_filtered"
   ]
  },
  {
   "cell_type": "code",
   "execution_count": null,
   "id": "9c8abccc-9943-48f7-89a1-8885b0676cfa",
   "metadata": {},
   "outputs": [],
   "source": [
    "summary_filtered.to_csv(f\"data_summary_{beiwe_study_id}.csv\", index=False)"
   ]
  },
  {
   "cell_type": "code",
   "execution_count": null,
   "id": "905a8241-50fa-4666-a090-6b3f1a71deeb",
   "metadata": {},
   "outputs": [],
   "source": []
  }
 ],
 "metadata": {
  "kernelspec": {
   "display_name": "Python 3 (ipykernel)",
   "language": "python",
   "name": "python3"
  },
  "language_info": {
   "codemirror_mode": {
    "name": "ipython",
    "version": 3
   },
   "file_extension": ".py",
   "mimetype": "text/x-python",
   "name": "python",
   "nbconvert_exporter": "python",
   "pygments_lexer": "ipython3",
   "version": "3.12.7"
  }
 },
 "nbformat": 4,
 "nbformat_minor": 5
}
